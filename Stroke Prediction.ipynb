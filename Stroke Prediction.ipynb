{
 "cells": [
  {
   "cell_type": "code",
   "execution_count": 1,
   "metadata": {
    "execution": {
     "iopub.execute_input": "2021-06-04T10:53:53.766602Z",
     "iopub.status.busy": "2021-06-04T10:53:53.766222Z",
     "iopub.status.idle": "2021-06-04T10:53:53.774237Z",
     "shell.execute_reply": "2021-06-04T10:53:53.773293Z",
     "shell.execute_reply.started": "2021-06-04T10:53:53.766569Z"
    }
   },
   "outputs": [],
   "source": [
    "### import necessary libraries \n",
    "\n",
    "import pandas as pd\n",
    "import numpy as np\n",
    "\n",
    "import seaborn as sns\n",
    "import matplotlib.pyplot as plt\n",
    "%matplotlib inline\n",
    "\n",
    "import imblearn\n",
    "\n",
    "import warnings                    \n",
    "warnings.filterwarnings('ignore')   ### this will ignore the warnings and we can look at much greener notebook \n",
    "                                    ### but I would recommend you to implement it at last because sometime warnings are good"
   ]
  },
  {
   "cell_type": "markdown",
   "metadata": {},
   "source": [
    "# Exploratory Data Analysis"
   ]
  },
  {
   "cell_type": "code",
   "execution_count": 3,
   "metadata": {
    "execution": {
     "iopub.execute_input": "2021-06-04T10:53:53.777618Z",
     "iopub.status.busy": "2021-06-04T10:53:53.777198Z",
     "iopub.status.idle": "2021-06-04T10:53:53.842760Z",
     "shell.execute_reply": "2021-06-04T10:53:53.841866Z",
     "shell.execute_reply.started": "2021-06-04T10:53:53.777586Z"
    }
   },
   "outputs": [
    {
     "data": {
      "text/html": [
       "<div>\n",
       "<style scoped>\n",
       "    .dataframe tbody tr th:only-of-type {\n",
       "        vertical-align: middle;\n",
       "    }\n",
       "\n",
       "    .dataframe tbody tr th {\n",
       "        vertical-align: top;\n",
       "    }\n",
       "\n",
       "    .dataframe thead th {\n",
       "        text-align: right;\n",
       "    }\n",
       "</style>\n",
       "<table border=\"1\" class=\"dataframe\">\n",
       "  <thead>\n",
       "    <tr style=\"text-align: right;\">\n",
       "      <th></th>\n",
       "      <th>id</th>\n",
       "      <th>gender</th>\n",
       "      <th>age</th>\n",
       "      <th>hypertension</th>\n",
       "      <th>heart_disease</th>\n",
       "      <th>ever_married</th>\n",
       "      <th>work_type</th>\n",
       "      <th>Residence_type</th>\n",
       "      <th>avg_glucose_level</th>\n",
       "      <th>bmi</th>\n",
       "      <th>smoking_status</th>\n",
       "      <th>stroke</th>\n",
       "    </tr>\n",
       "  </thead>\n",
       "  <tbody>\n",
       "    <tr>\n",
       "      <th>0</th>\n",
       "      <td>9046</td>\n",
       "      <td>Male</td>\n",
       "      <td>67.0</td>\n",
       "      <td>0</td>\n",
       "      <td>1</td>\n",
       "      <td>Yes</td>\n",
       "      <td>Private</td>\n",
       "      <td>Urban</td>\n",
       "      <td>228.69</td>\n",
       "      <td>36.6</td>\n",
       "      <td>formerly smoked</td>\n",
       "      <td>1</td>\n",
       "    </tr>\n",
       "    <tr>\n",
       "      <th>1</th>\n",
       "      <td>51676</td>\n",
       "      <td>Female</td>\n",
       "      <td>61.0</td>\n",
       "      <td>0</td>\n",
       "      <td>0</td>\n",
       "      <td>Yes</td>\n",
       "      <td>Self-employed</td>\n",
       "      <td>Rural</td>\n",
       "      <td>202.21</td>\n",
       "      <td>NaN</td>\n",
       "      <td>never smoked</td>\n",
       "      <td>1</td>\n",
       "    </tr>\n",
       "    <tr>\n",
       "      <th>2</th>\n",
       "      <td>31112</td>\n",
       "      <td>Male</td>\n",
       "      <td>80.0</td>\n",
       "      <td>0</td>\n",
       "      <td>1</td>\n",
       "      <td>Yes</td>\n",
       "      <td>Private</td>\n",
       "      <td>Rural</td>\n",
       "      <td>105.92</td>\n",
       "      <td>32.5</td>\n",
       "      <td>never smoked</td>\n",
       "      <td>1</td>\n",
       "    </tr>\n",
       "    <tr>\n",
       "      <th>3</th>\n",
       "      <td>60182</td>\n",
       "      <td>Female</td>\n",
       "      <td>49.0</td>\n",
       "      <td>0</td>\n",
       "      <td>0</td>\n",
       "      <td>Yes</td>\n",
       "      <td>Private</td>\n",
       "      <td>Urban</td>\n",
       "      <td>171.23</td>\n",
       "      <td>34.4</td>\n",
       "      <td>smokes</td>\n",
       "      <td>1</td>\n",
       "    </tr>\n",
       "    <tr>\n",
       "      <th>4</th>\n",
       "      <td>1665</td>\n",
       "      <td>Female</td>\n",
       "      <td>79.0</td>\n",
       "      <td>1</td>\n",
       "      <td>0</td>\n",
       "      <td>Yes</td>\n",
       "      <td>Self-employed</td>\n",
       "      <td>Rural</td>\n",
       "      <td>174.12</td>\n",
       "      <td>24.0</td>\n",
       "      <td>never smoked</td>\n",
       "      <td>1</td>\n",
       "    </tr>\n",
       "  </tbody>\n",
       "</table>\n",
       "</div>"
      ],
      "text/plain": [
       "      id  gender   age  hypertension  heart_disease ever_married  \\\n",
       "0   9046    Male  67.0             0              1          Yes   \n",
       "1  51676  Female  61.0             0              0          Yes   \n",
       "2  31112    Male  80.0             0              1          Yes   \n",
       "3  60182  Female  49.0             0              0          Yes   \n",
       "4   1665  Female  79.0             1              0          Yes   \n",
       "\n",
       "       work_type Residence_type  avg_glucose_level   bmi   smoking_status  \\\n",
       "0        Private          Urban             228.69  36.6  formerly smoked   \n",
       "1  Self-employed          Rural             202.21   NaN     never smoked   \n",
       "2        Private          Rural             105.92  32.5     never smoked   \n",
       "3        Private          Urban             171.23  34.4           smokes   \n",
       "4  Self-employed          Rural             174.12  24.0     never smoked   \n",
       "\n",
       "   stroke  \n",
       "0       1  \n",
       "1       1  \n",
       "2       1  \n",
       "3       1  \n",
       "4       1  "
      ]
     },
     "execution_count": 3,
     "metadata": {},
     "output_type": "execute_result"
    }
   ],
   "source": [
    "df = pd.read_csv(\"stroke_data.csv\")\n",
    "df.head()"
   ]
  },
  {
   "cell_type": "code",
   "execution_count": 4,
   "metadata": {
    "execution": {
     "iopub.execute_input": "2021-06-04T10:53:53.845007Z",
     "iopub.status.busy": "2021-06-04T10:53:53.844736Z",
     "iopub.status.idle": "2021-06-04T10:53:53.849585Z",
     "shell.execute_reply": "2021-06-04T10:53:53.848909Z",
     "shell.execute_reply.started": "2021-06-04T10:53:53.844981Z"
    }
   },
   "outputs": [
    {
     "data": {
      "text/plain": [
       "(5110, 12)"
      ]
     },
     "execution_count": 4,
     "metadata": {},
     "output_type": "execute_result"
    }
   ],
   "source": [
    "df.shape"
   ]
  },
  {
   "cell_type": "code",
   "execution_count": 5,
   "metadata": {
    "execution": {
     "iopub.execute_input": "2021-06-04T10:53:53.850942Z",
     "iopub.status.busy": "2021-06-04T10:53:53.850555Z",
     "iopub.status.idle": "2021-06-04T10:53:53.868298Z",
     "shell.execute_reply": "2021-06-04T10:53:53.867430Z",
     "shell.execute_reply.started": "2021-06-04T10:53:53.850914Z"
    }
   },
   "outputs": [
    {
     "data": {
      "text/plain": [
       "id                     0\n",
       "gender                 0\n",
       "age                    0\n",
       "hypertension           0\n",
       "heart_disease          0\n",
       "ever_married           0\n",
       "work_type              0\n",
       "Residence_type         0\n",
       "avg_glucose_level      0\n",
       "bmi                  201\n",
       "smoking_status         0\n",
       "stroke                 0\n",
       "dtype: int64"
      ]
     },
     "execution_count": 5,
     "metadata": {},
     "output_type": "execute_result"
    }
   ],
   "source": [
    "df.isnull().sum()"
   ]
  },
  {
   "cell_type": "code",
   "execution_count": 6,
   "metadata": {
    "execution": {
     "iopub.execute_input": "2021-06-04T10:53:53.869913Z",
     "iopub.status.busy": "2021-06-04T10:53:53.869630Z",
     "iopub.status.idle": "2021-06-04T10:53:53.877927Z",
     "shell.execute_reply": "2021-06-04T10:53:53.876773Z",
     "shell.execute_reply.started": "2021-06-04T10:53:53.869885Z"
    }
   },
   "outputs": [],
   "source": [
    "## df.bmi.describe()"
   ]
  },
  {
   "cell_type": "code",
   "execution_count": 7,
   "metadata": {
    "execution": {
     "iopub.execute_input": "2021-06-04T10:53:53.880049Z",
     "iopub.status.busy": "2021-06-04T10:53:53.879678Z",
     "iopub.status.idle": "2021-06-04T10:53:53.888620Z",
     "shell.execute_reply": "2021-06-04T10:53:53.887724Z",
     "shell.execute_reply.started": "2021-06-04T10:53:53.880022Z"
    }
   },
   "outputs": [],
   "source": [
    "# min_threshold = df['bmi'].quantile(0.001)\n",
    "# max_threshold = df['bmi'].quantile(0.999)\n",
    "# df[df['bmi']>max_threshold]"
   ]
  },
  {
   "cell_type": "code",
   "execution_count": 8,
   "metadata": {
    "execution": {
     "iopub.execute_input": "2021-06-04T10:53:53.890797Z",
     "iopub.status.busy": "2021-06-04T10:53:53.890517Z",
     "iopub.status.idle": "2021-06-04T10:53:53.909182Z",
     "shell.execute_reply": "2021-06-04T10:53:53.908271Z",
     "shell.execute_reply.started": "2021-06-04T10:53:53.890768Z"
    }
   },
   "outputs": [
    {
     "data": {
      "text/plain": [
       "(4909, 12)"
      ]
     },
     "execution_count": 8,
     "metadata": {},
     "output_type": "execute_result"
    }
   ],
   "source": [
    "df.dropna(inplace = True)\n",
    "df.shape"
   ]
  },
  {
   "cell_type": "code",
   "execution_count": 9,
   "metadata": {
    "execution": {
     "iopub.execute_input": "2021-06-04T10:53:53.911231Z",
     "iopub.status.busy": "2021-06-04T10:53:53.910882Z",
     "iopub.status.idle": "2021-06-04T10:53:53.923438Z",
     "shell.execute_reply": "2021-06-04T10:53:53.922355Z",
     "shell.execute_reply.started": "2021-06-04T10:53:53.911196Z"
    }
   },
   "outputs": [
    {
     "name": "stdout",
     "output_type": "stream",
     "text": [
      "Gender :  ['Male' 'Female' 'Other']\n",
      "ever_married :  ['Yes' 'No']\n",
      "Work Type :  ['Private' 'Self-employed' 'Govt_job' 'children' 'Never_worked']\n",
      "Residence :  ['Urban' 'Rural']\n",
      "Smoking :  ['formerly smoked' 'never smoked' 'smokes' 'Unknown']\n"
     ]
    }
   ],
   "source": [
    "print(\"Gender : \", df['gender'].unique())\n",
    "\n",
    "print(\"ever_married : \", df['ever_married'].unique())\n",
    "\n",
    "print(\"Work Type : \", df['work_type'].unique())\n",
    "\n",
    "print(\"Residence : \", df['Residence_type'].unique())\n",
    "\n",
    "print(\"Smoking : \", df['smoking_status'].unique())"
   ]
  },
  {
   "cell_type": "code",
   "execution_count": 10,
   "metadata": {
    "execution": {
     "iopub.execute_input": "2021-06-04T10:53:53.925097Z",
     "iopub.status.busy": "2021-06-04T10:53:53.924808Z",
     "iopub.status.idle": "2021-06-04T10:53:53.960197Z",
     "shell.execute_reply": "2021-06-04T10:53:53.959284Z",
     "shell.execute_reply.started": "2021-06-04T10:53:53.925072Z"
    }
   },
   "outputs": [
    {
     "data": {
      "text/html": [
       "<div>\n",
       "<style scoped>\n",
       "    .dataframe tbody tr th:only-of-type {\n",
       "        vertical-align: middle;\n",
       "    }\n",
       "\n",
       "    .dataframe tbody tr th {\n",
       "        vertical-align: top;\n",
       "    }\n",
       "\n",
       "    .dataframe thead th {\n",
       "        text-align: right;\n",
       "    }\n",
       "</style>\n",
       "<table border=\"1\" class=\"dataframe\">\n",
       "  <thead>\n",
       "    <tr style=\"text-align: right;\">\n",
       "      <th></th>\n",
       "      <th>id</th>\n",
       "      <th>age</th>\n",
       "      <th>hypertension</th>\n",
       "      <th>heart_disease</th>\n",
       "      <th>avg_glucose_level</th>\n",
       "      <th>bmi</th>\n",
       "      <th>stroke</th>\n",
       "    </tr>\n",
       "  </thead>\n",
       "  <tbody>\n",
       "    <tr>\n",
       "      <th>count</th>\n",
       "      <td>4909.000000</td>\n",
       "      <td>4909.000000</td>\n",
       "      <td>4909.000000</td>\n",
       "      <td>4909.000000</td>\n",
       "      <td>4909.000000</td>\n",
       "      <td>4909.000000</td>\n",
       "      <td>4909.000000</td>\n",
       "    </tr>\n",
       "    <tr>\n",
       "      <th>mean</th>\n",
       "      <td>37064.313506</td>\n",
       "      <td>42.865374</td>\n",
       "      <td>0.091872</td>\n",
       "      <td>0.049501</td>\n",
       "      <td>105.305150</td>\n",
       "      <td>28.893237</td>\n",
       "      <td>0.042575</td>\n",
       "    </tr>\n",
       "    <tr>\n",
       "      <th>std</th>\n",
       "      <td>20995.098457</td>\n",
       "      <td>22.555115</td>\n",
       "      <td>0.288875</td>\n",
       "      <td>0.216934</td>\n",
       "      <td>44.424341</td>\n",
       "      <td>7.854067</td>\n",
       "      <td>0.201917</td>\n",
       "    </tr>\n",
       "    <tr>\n",
       "      <th>min</th>\n",
       "      <td>77.000000</td>\n",
       "      <td>0.080000</td>\n",
       "      <td>0.000000</td>\n",
       "      <td>0.000000</td>\n",
       "      <td>55.120000</td>\n",
       "      <td>10.300000</td>\n",
       "      <td>0.000000</td>\n",
       "    </tr>\n",
       "    <tr>\n",
       "      <th>25%</th>\n",
       "      <td>18605.000000</td>\n",
       "      <td>25.000000</td>\n",
       "      <td>0.000000</td>\n",
       "      <td>0.000000</td>\n",
       "      <td>77.070000</td>\n",
       "      <td>23.500000</td>\n",
       "      <td>0.000000</td>\n",
       "    </tr>\n",
       "    <tr>\n",
       "      <th>50%</th>\n",
       "      <td>37608.000000</td>\n",
       "      <td>44.000000</td>\n",
       "      <td>0.000000</td>\n",
       "      <td>0.000000</td>\n",
       "      <td>91.680000</td>\n",
       "      <td>28.100000</td>\n",
       "      <td>0.000000</td>\n",
       "    </tr>\n",
       "    <tr>\n",
       "      <th>75%</th>\n",
       "      <td>55220.000000</td>\n",
       "      <td>60.000000</td>\n",
       "      <td>0.000000</td>\n",
       "      <td>0.000000</td>\n",
       "      <td>113.570000</td>\n",
       "      <td>33.100000</td>\n",
       "      <td>0.000000</td>\n",
       "    </tr>\n",
       "    <tr>\n",
       "      <th>max</th>\n",
       "      <td>72940.000000</td>\n",
       "      <td>82.000000</td>\n",
       "      <td>1.000000</td>\n",
       "      <td>1.000000</td>\n",
       "      <td>271.740000</td>\n",
       "      <td>97.600000</td>\n",
       "      <td>1.000000</td>\n",
       "    </tr>\n",
       "  </tbody>\n",
       "</table>\n",
       "</div>"
      ],
      "text/plain": [
       "                 id          age  hypertension  heart_disease  \\\n",
       "count   4909.000000  4909.000000   4909.000000    4909.000000   \n",
       "mean   37064.313506    42.865374      0.091872       0.049501   \n",
       "std    20995.098457    22.555115      0.288875       0.216934   \n",
       "min       77.000000     0.080000      0.000000       0.000000   \n",
       "25%    18605.000000    25.000000      0.000000       0.000000   \n",
       "50%    37608.000000    44.000000      0.000000       0.000000   \n",
       "75%    55220.000000    60.000000      0.000000       0.000000   \n",
       "max    72940.000000    82.000000      1.000000       1.000000   \n",
       "\n",
       "       avg_glucose_level          bmi       stroke  \n",
       "count        4909.000000  4909.000000  4909.000000  \n",
       "mean          105.305150    28.893237     0.042575  \n",
       "std            44.424341     7.854067     0.201917  \n",
       "min            55.120000    10.300000     0.000000  \n",
       "25%            77.070000    23.500000     0.000000  \n",
       "50%            91.680000    28.100000     0.000000  \n",
       "75%           113.570000    33.100000     0.000000  \n",
       "max           271.740000    97.600000     1.000000  "
      ]
     },
     "execution_count": 10,
     "metadata": {},
     "output_type": "execute_result"
    }
   ],
   "source": [
    "df.describe()"
   ]
  },
  {
   "cell_type": "code",
   "execution_count": 11,
   "metadata": {
    "execution": {
     "iopub.execute_input": "2021-06-04T10:53:53.961540Z",
     "iopub.status.busy": "2021-06-04T10:53:53.961276Z",
     "iopub.status.idle": "2021-06-04T10:53:54.160570Z",
     "shell.execute_reply": "2021-06-04T10:53:54.159621Z",
     "shell.execute_reply.started": "2021-06-04T10:53:53.961509Z"
    }
   },
   "outputs": [
    {
     "data": {
      "text/plain": [
       "<function matplotlib.pyplot.show(close=None, block=None)>"
      ]
     },
     "execution_count": 11,
     "metadata": {},
     "output_type": "execute_result"
    },
    {
     "data": {
      "image/png": "[encoded data removed]",
      "text/plain": [
       "<Figure size 432x288 with 1 Axes>"
      ]
     },
     "metadata": {
      "needs_background": "light"
     },
     "output_type": "display_data"
    }
   ],
   "source": [
    "sns.distplot(df['age'], bins=10)  #rwidth=0.8\n",
    "plt.show"
   ]
  },
  {
   "cell_type": "code",
   "execution_count": 12,
   "metadata": {
    "execution": {
     "iopub.execute_input": "2021-06-04T10:53:54.162238Z",
     "iopub.status.busy": "2021-06-04T10:53:54.161925Z",
     "iopub.status.idle": "2021-06-04T10:53:54.170579Z",
     "shell.execute_reply": "2021-06-04T10:53:54.169694Z",
     "shell.execute_reply.started": "2021-06-04T10:53:54.162204Z"
    }
   },
   "outputs": [
    {
     "data": {
      "text/plain": [
       "Female    2897\n",
       "Male      2011\n",
       "Other        1\n",
       "Name: gender, dtype: int64"
      ]
     },
     "execution_count": 12,
     "metadata": {},
     "output_type": "execute_result"
    }
   ],
   "source": [
    "df.gender.value_counts()"
   ]
  },
  {
   "cell_type": "code",
   "execution_count": 13,
   "metadata": {
    "execution": {
     "iopub.execute_input": "2021-06-04T10:53:54.172201Z",
     "iopub.status.busy": "2021-06-04T10:53:54.171835Z",
     "iopub.status.idle": "2021-06-04T10:53:54.506208Z",
     "shell.execute_reply": "2021-06-04T10:53:54.505239Z",
     "shell.execute_reply.started": "2021-06-04T10:53:54.172159Z"
    }
   },
   "outputs": [
    {
     "data": {
      "image/png": "[encoded data removed]",
      "text/plain": [
       "<Figure size 432x288 with 1 Axes>"
      ]
     },
     "metadata": {
      "needs_background": "light"
     },
     "output_type": "display_data"
    }
   ],
   "source": [
    "sns.barplot(df['gender'], df['stroke'])\n",
    "plt.show()"
   ]
  },
  {
   "cell_type": "code",
   "execution_count": 43,
   "metadata": {},
   "outputs": [
    {
     "data": {
      "image/png": "[encoded data removed]",
      "text/plain": [
       "<Figure size 432x288 with 2 Axes>"
      ]
     },
     "metadata": {
      "needs_background": "light"
     },
     "output_type": "display_data"
    }
   ],
   "source": [
    "plt.subplot(1, 2, 1)\n",
    "\n",
    "sns.countplot(x='gender', hue='stroke', data=df)\n",
    "sns.despine()\n",
    "\n",
    "plt.subplot(1, 2, 2)\n",
    "sns.countplot(x='stroke', hue='gender', data=df)\n",
    "sns.despine()\n",
    "\n",
    "plt.show()"
   ]
  },
  {
   "cell_type": "code",
   "execution_count": 29,
   "metadata": {
    "execution": {
     "iopub.execute_input": "2021-06-04T10:53:54.509674Z",
     "iopub.status.busy": "2021-06-04T10:53:54.509391Z",
     "iopub.status.idle": "2021-06-04T10:53:54.519119Z",
     "shell.execute_reply": "2021-06-04T10:53:54.518156Z",
     "shell.execute_reply.started": "2021-06-04T10:53:54.509645Z"
    }
   },
   "outputs": [
    {
     "data": {
      "text/plain": [
       "Yes    3204\n",
       "No     1705\n",
       "Name: ever_married, dtype: int64"
      ]
     },
     "execution_count": 29,
     "metadata": {},
     "output_type": "execute_result"
    }
   ],
   "source": [
    "df.ever_married.value_counts()"
   ]
  },
  {
   "cell_type": "code",
   "execution_count": 30,
   "metadata": {
    "execution": {
     "iopub.execute_input": "2021-06-04T10:53:54.523828Z",
     "iopub.status.busy": "2021-06-04T10:53:54.523528Z",
     "iopub.status.idle": "2021-06-04T10:53:54.747859Z",
     "shell.execute_reply": "2021-06-04T10:53:54.747135Z",
     "shell.execute_reply.started": "2021-06-04T10:53:54.523802Z"
    }
   },
   "outputs": [
    {
     "data": {
      "image/png": "[encoded data removed]",
      "text/plain": [
       "<Figure size 432x288 with 1 Axes>"
      ]
     },
     "metadata": {
      "needs_background": "light"
     },
     "output_type": "display_data"
    }
   ],
   "source": [
    "sns.barplot(df['ever_married'], df['stroke'])\n",
    "plt.show()"
   ]
  },
  {
   "cell_type": "code",
   "execution_count": 31,
   "metadata": {},
   "outputs": [
    {
     "data": {
      "image/png": "[encoded data removed]",
      "text/plain": [
       "<Figure size 432x288 with 2 Axes>"
      ]
     },
     "metadata": {
      "needs_background": "light"
     },
     "output_type": "display_data"
    }
   ],
   "source": [
    "plt.subplot(1, 2, 1)\n",
    "\n",
    "sns.countplot(x='ever_married', hue='stroke', data=df)\n",
    "sns.despine()\n",
    "\n",
    "plt.subplot(1, 2, 2)\n",
    "sns.countplot(x='stroke', hue='ever_married', data=df)\n",
    "sns.despine()\n",
    "\n",
    "plt.show()"
   ]
  },
  {
   "cell_type": "code",
   "execution_count": 32,
   "metadata": {
    "execution": {
     "iopub.execute_input": "2021-06-04T10:53:54.749259Z",
     "iopub.status.busy": "2021-06-04T10:53:54.748836Z",
     "iopub.status.idle": "2021-06-04T10:53:54.757210Z",
     "shell.execute_reply": "2021-06-04T10:53:54.756289Z",
     "shell.execute_reply.started": "2021-06-04T10:53:54.749208Z"
    }
   },
   "outputs": [
    {
     "data": {
      "text/plain": [
       "Private          2811\n",
       "Self-employed     775\n",
       "children          671\n",
       "Govt_job          630\n",
       "Never_worked       22\n",
       "Name: work_type, dtype: int64"
      ]
     },
     "execution_count": 32,
     "metadata": {},
     "output_type": "execute_result"
    }
   ],
   "source": [
    "df.work_type.value_counts()"
   ]
  },
  {
   "cell_type": "code",
   "execution_count": 33,
   "metadata": {
    "execution": {
     "iopub.execute_input": "2021-06-04T10:53:54.759119Z",
     "iopub.status.busy": "2021-06-04T10:53:54.758717Z",
     "iopub.status.idle": "2021-06-04T10:53:55.105484Z",
     "shell.execute_reply": "2021-06-04T10:53:55.104324Z",
     "shell.execute_reply.started": "2021-06-04T10:53:54.759079Z"
    }
   },
   "outputs": [
    {
     "data": {
      "image/png": "[encoded data removed]",
      "text/plain": [
       "<Figure size 432x288 with 1 Axes>"
      ]
     },
     "metadata": {
      "needs_background": "light"
     },
     "output_type": "display_data"
    }
   ],
   "source": [
    "sns.barplot(df['work_type'], df['stroke'])\n",
    "plt.show()"
   ]
  },
  {
   "cell_type": "code",
   "execution_count": 40,
   "metadata": {},
   "outputs": [
    {
     "data": {
      "image/png": "[encoded data removed]",
      "text/plain": [
       "<Figure size 432x288 with 2 Axes>"
      ]
     },
     "metadata": {
      "needs_background": "light"
     },
     "output_type": "display_data"
    }
   ],
   "source": [
    "plt.subplot(1, 2, 1)\n",
    "\n",
    "sns.countplot(x='work_type', hue='stroke', data=df)\n",
    "plt.xticks(rotation=30)\n",
    "sns.despine()\n",
    "\n",
    "plt.subplot(1, 2, 2)\n",
    "sns.countplot(x='stroke', hue='work_type', data=df)\n",
    "sns.despine()\n",
    "\n",
    "plt.show()"
   ]
  },
  {
   "cell_type": "code",
   "execution_count": 44,
   "metadata": {
    "execution": {
     "iopub.execute_input": "2021-06-04T10:53:55.107302Z",
     "iopub.status.busy": "2021-06-04T10:53:55.106915Z",
     "iopub.status.idle": "2021-06-04T10:53:55.116209Z",
     "shell.execute_reply": "2021-06-04T10:53:55.115257Z",
     "shell.execute_reply.started": "2021-06-04T10:53:55.107271Z"
    }
   },
   "outputs": [
    {
     "data": {
      "text/plain": [
       "Urban    2490\n",
       "Rural    2419\n",
       "Name: Residence_type, dtype: int64"
      ]
     },
     "execution_count": 44,
     "metadata": {},
     "output_type": "execute_result"
    }
   ],
   "source": [
    "df.Residence_type.value_counts()"
   ]
  },
  {
   "cell_type": "code",
   "execution_count": 45,
   "metadata": {
    "execution": {
     "iopub.execute_input": "2021-06-04T10:53:55.117984Z",
     "iopub.status.busy": "2021-06-04T10:53:55.117651Z",
     "iopub.status.idle": "2021-06-04T10:53:55.344847Z",
     "shell.execute_reply": "2021-06-04T10:53:55.343731Z",
     "shell.execute_reply.started": "2021-06-04T10:53:55.117956Z"
    }
   },
   "outputs": [
    {
     "data": {
      "image/png": "[encoded data removed]",
      "text/plain": [
       "<Figure size 432x288 with 1 Axes>"
      ]
     },
     "metadata": {
      "needs_background": "light"
     },
     "output_type": "display_data"
    }
   ],
   "source": [
    "sns.barplot(df['Residence_type'], df['stroke'])\n",
    "plt.show()"
   ]
  },
  {
   "cell_type": "code",
   "execution_count": 46,
   "metadata": {},
   "outputs": [
    {
     "data": {
      "image/png": "[encoded data removed]",
      "text/plain": [
       "<Figure size 432x288 with 2 Axes>"
      ]
     },
     "metadata": {
      "needs_background": "light"
     },
     "output_type": "display_data"
    }
   ],
   "source": [
    "plt.subplot(1, 2, 1)\n",
    "\n",
    "sns.countplot(x='Residence_type', hue='stroke', data=df)\n",
    "sns.despine()\n",
    "\n",
    "plt.subplot(1, 2, 2)\n",
    "sns.countplot(x='stroke', hue='Residence_type', data=df)\n",
    "sns.despine()\n",
    "\n",
    "plt.show()"
   ]
  },
  {
   "cell_type": "code",
   "execution_count": 47,
   "metadata": {
    "execution": {
     "iopub.execute_input": "2021-06-04T10:53:55.346385Z",
     "iopub.status.busy": "2021-06-04T10:53:55.346045Z",
     "iopub.status.idle": "2021-06-04T10:53:55.355012Z",
     "shell.execute_reply": "2021-06-04T10:53:55.353990Z",
     "shell.execute_reply.started": "2021-06-04T10:53:55.346355Z"
    }
   },
   "outputs": [
    {
     "data": {
      "text/plain": [
       "never smoked       1852\n",
       "Unknown            1483\n",
       "formerly smoked     837\n",
       "smokes              737\n",
       "Name: smoking_status, dtype: int64"
      ]
     },
     "execution_count": 47,
     "metadata": {},
     "output_type": "execute_result"
    }
   ],
   "source": [
    "df.smoking_status.value_counts()"
   ]
  },
  {
   "cell_type": "code",
   "execution_count": 48,
   "metadata": {
    "execution": {
     "iopub.execute_input": "2021-06-04T10:53:55.356822Z",
     "iopub.status.busy": "2021-06-04T10:53:55.356507Z",
     "iopub.status.idle": "2021-06-04T10:53:55.685630Z",
     "shell.execute_reply": "2021-06-04T10:53:55.684772Z",
     "shell.execute_reply.started": "2021-06-04T10:53:55.356794Z"
    }
   },
   "outputs": [
    {
     "data": {
      "image/png": "[encoded data removed]",
      "text/plain": [
       "<Figure size 432x288 with 1 Axes>"
      ]
     },
     "metadata": {
      "needs_background": "light"
     },
     "output_type": "display_data"
    }
   ],
   "source": [
    "sns.barplot(df['smoking_status'], df['stroke'])\n",
    "plt.show()"
   ]
  },
  {
   "cell_type": "code",
   "execution_count": 51,
   "metadata": {},
   "outputs": [
    {
     "data": {
      "image/png": "[encoded data removed]",
      "text/plain": [
       "<Figure size 432x288 with 2 Axes>"
      ]
     },
     "metadata": {
      "needs_background": "light"
     },
     "output_type": "display_data"
    }
   ],
   "source": [
    "plt.subplot(1, 2, 1)\n",
    "\n",
    "sns.countplot(x='smoking_status', hue='stroke', data=df)\n",
    "plt.xticks(rotation=30)\n",
    "sns.despine()\n",
    "\n",
    "plt.subplot(1, 2, 2)\n",
    "sns.countplot(x='stroke', hue='smoking_status', data=df)\n",
    "sns.despine()\n",
    "\n",
    "plt.show()"
   ]
  },
  {
   "cell_type": "code",
   "execution_count": 52,
   "metadata": {
    "execution": {
     "iopub.execute_input": "2021-06-04T10:53:55.687394Z",
     "iopub.status.busy": "2021-06-04T10:53:55.687074Z",
     "iopub.status.idle": "2021-06-04T10:53:55.694954Z",
     "shell.execute_reply": "2021-06-04T10:53:55.694092Z",
     "shell.execute_reply.started": "2021-06-04T10:53:55.687365Z"
    }
   },
   "outputs": [
    {
     "data": {
      "text/plain": [
       "0    4700\n",
       "1     209\n",
       "Name: stroke, dtype: int64"
      ]
     },
     "execution_count": 52,
     "metadata": {},
     "output_type": "execute_result"
    }
   ],
   "source": [
    "df.stroke.value_counts()"
   ]
  },
  {
   "cell_type": "code",
   "execution_count": 53,
   "metadata": {
    "execution": {
     "iopub.execute_input": "2021-06-04T10:53:55.696890Z",
     "iopub.status.busy": "2021-06-04T10:53:55.696539Z",
     "iopub.status.idle": "2021-06-04T10:53:55.803857Z",
     "shell.execute_reply": "2021-06-04T10:53:55.802995Z",
     "shell.execute_reply.started": "2021-06-04T10:53:55.696849Z"
    }
   },
   "outputs": [
    {
     "data": {
      "image/png": "[encoded data removed]",
      "text/plain": [
       "<Figure size 432x288 with 1 Axes>"
      ]
     },
     "metadata": {
      "needs_background": "light"
     },
     "output_type": "display_data"
    }
   ],
   "source": [
    "sns.countplot(df['stroke'], data=df)\n",
    "plt.show()\n",
    "\n",
    "## Its clear that the data is imbalanced, so we'll handle it in Feature Engineering Section"
   ]
  },
  {
   "cell_type": "markdown",
   "metadata": {},
   "source": [
    "## Feature Engineering"
   ]
  },
  {
   "cell_type": "markdown",
   "metadata": {},
   "source": [
    "### Handle Categorical Data"
   ]
  },
  {
   "cell_type": "code",
   "execution_count": 54,
   "metadata": {
    "execution": {
     "iopub.execute_input": "2021-06-04T10:53:55.805397Z",
     "iopub.status.busy": "2021-06-04T10:53:55.805061Z",
     "iopub.status.idle": "2021-06-04T10:53:55.809917Z",
     "shell.execute_reply": "2021-06-04T10:53:55.808795Z",
     "shell.execute_reply.started": "2021-06-04T10:53:55.805368Z"
    }
   },
   "outputs": [],
   "source": [
    "from sklearn.preprocessing import LabelEncoder\n",
    "le = LabelEncoder()\n",
    "\n",
    "### Label Encoder will help us to rank attributes in a feature "
   ]
  },
  {
   "cell_type": "code",
   "execution_count": 55,
   "metadata": {
    "execution": {
     "iopub.execute_input": "2021-06-04T10:53:55.811468Z",
     "iopub.status.busy": "2021-06-04T10:53:55.811136Z",
     "iopub.status.idle": "2021-06-04T10:53:55.822648Z",
     "shell.execute_reply": "2021-06-04T10:53:55.821597Z",
     "shell.execute_reply.started": "2021-06-04T10:53:55.811428Z"
    }
   },
   "outputs": [],
   "source": [
    "dummies = pd.get_dummies(df['gender'])   \n",
    "\n",
    "### dummies will convert attribute in numeric value"
   ]
  },
  {
   "cell_type": "code",
   "execution_count": 56,
   "metadata": {
    "execution": {
     "iopub.execute_input": "2021-06-04T10:53:55.824443Z",
     "iopub.status.busy": "2021-06-04T10:53:55.824112Z",
     "iopub.status.idle": "2021-06-04T10:53:55.843490Z",
     "shell.execute_reply": "2021-06-04T10:53:55.842335Z",
     "shell.execute_reply.started": "2021-06-04T10:53:55.824405Z"
    }
   },
   "outputs": [],
   "source": [
    "df['ever_married']=le.fit_transform(df.ever_married)\n",
    "\n",
    "df['work_type']=le.fit_transform(df.work_type)\n",
    "\n",
    "df['Residence_type']=le.fit_transform(df.Residence_type)\n",
    "\n",
    "df['smoking_status']=le.fit_transform(df.smoking_status)"
   ]
  },
  {
   "cell_type": "code",
   "execution_count": 57,
   "metadata": {
    "execution": {
     "iopub.execute_input": "2021-06-04T10:53:55.845193Z",
     "iopub.status.busy": "2021-06-04T10:53:55.844873Z",
     "iopub.status.idle": "2021-06-04T10:53:55.875879Z",
     "shell.execute_reply": "2021-06-04T10:53:55.874848Z",
     "shell.execute_reply.started": "2021-06-04T10:53:55.845137Z"
    }
   },
   "outputs": [
    {
     "data": {
      "text/html": [
       "<div>\n",
       "<style scoped>\n",
       "    .dataframe tbody tr th:only-of-type {\n",
       "        vertical-align: middle;\n",
       "    }\n",
       "\n",
       "    .dataframe tbody tr th {\n",
       "        vertical-align: top;\n",
       "    }\n",
       "\n",
       "    .dataframe thead th {\n",
       "        text-align: right;\n",
       "    }\n",
       "</style>\n",
       "<table border=\"1\" class=\"dataframe\">\n",
       "  <thead>\n",
       "    <tr style=\"text-align: right;\">\n",
       "      <th></th>\n",
       "      <th>id</th>\n",
       "      <th>gender</th>\n",
       "      <th>age</th>\n",
       "      <th>hypertension</th>\n",
       "      <th>heart_disease</th>\n",
       "      <th>ever_married</th>\n",
       "      <th>work_type</th>\n",
       "      <th>Residence_type</th>\n",
       "      <th>avg_glucose_level</th>\n",
       "      <th>bmi</th>\n",
       "      <th>smoking_status</th>\n",
       "      <th>stroke</th>\n",
       "      <th>Female</th>\n",
       "      <th>Male</th>\n",
       "      <th>Other</th>\n",
       "    </tr>\n",
       "  </thead>\n",
       "  <tbody>\n",
       "    <tr>\n",
       "      <th>0</th>\n",
       "      <td>9046</td>\n",
       "      <td>Male</td>\n",
       "      <td>67.0</td>\n",
       "      <td>0</td>\n",
       "      <td>1</td>\n",
       "      <td>1</td>\n",
       "      <td>2</td>\n",
       "      <td>1</td>\n",
       "      <td>228.69</td>\n",
       "      <td>36.6</td>\n",
       "      <td>1</td>\n",
       "      <td>1</td>\n",
       "      <td>0</td>\n",
       "      <td>1</td>\n",
       "      <td>0</td>\n",
       "    </tr>\n",
       "    <tr>\n",
       "      <th>2</th>\n",
       "      <td>31112</td>\n",
       "      <td>Male</td>\n",
       "      <td>80.0</td>\n",
       "      <td>0</td>\n",
       "      <td>1</td>\n",
       "      <td>1</td>\n",
       "      <td>2</td>\n",
       "      <td>0</td>\n",
       "      <td>105.92</td>\n",
       "      <td>32.5</td>\n",
       "      <td>2</td>\n",
       "      <td>1</td>\n",
       "      <td>0</td>\n",
       "      <td>1</td>\n",
       "      <td>0</td>\n",
       "    </tr>\n",
       "    <tr>\n",
       "      <th>3</th>\n",
       "      <td>60182</td>\n",
       "      <td>Female</td>\n",
       "      <td>49.0</td>\n",
       "      <td>0</td>\n",
       "      <td>0</td>\n",
       "      <td>1</td>\n",
       "      <td>2</td>\n",
       "      <td>1</td>\n",
       "      <td>171.23</td>\n",
       "      <td>34.4</td>\n",
       "      <td>3</td>\n",
       "      <td>1</td>\n",
       "      <td>1</td>\n",
       "      <td>0</td>\n",
       "      <td>0</td>\n",
       "    </tr>\n",
       "    <tr>\n",
       "      <th>4</th>\n",
       "      <td>1665</td>\n",
       "      <td>Female</td>\n",
       "      <td>79.0</td>\n",
       "      <td>1</td>\n",
       "      <td>0</td>\n",
       "      <td>1</td>\n",
       "      <td>3</td>\n",
       "      <td>0</td>\n",
       "      <td>174.12</td>\n",
       "      <td>24.0</td>\n",
       "      <td>2</td>\n",
       "      <td>1</td>\n",
       "      <td>1</td>\n",
       "      <td>0</td>\n",
       "      <td>0</td>\n",
       "    </tr>\n",
       "    <tr>\n",
       "      <th>5</th>\n",
       "      <td>56669</td>\n",
       "      <td>Male</td>\n",
       "      <td>81.0</td>\n",
       "      <td>0</td>\n",
       "      <td>0</td>\n",
       "      <td>1</td>\n",
       "      <td>2</td>\n",
       "      <td>1</td>\n",
       "      <td>186.21</td>\n",
       "      <td>29.0</td>\n",
       "      <td>1</td>\n",
       "      <td>1</td>\n",
       "      <td>0</td>\n",
       "      <td>1</td>\n",
       "      <td>0</td>\n",
       "    </tr>\n",
       "  </tbody>\n",
       "</table>\n",
       "</div>"
      ],
      "text/plain": [
       "      id  gender   age  hypertension  heart_disease  ever_married  work_type  \\\n",
       "0   9046    Male  67.0             0              1             1          2   \n",
       "2  31112    Male  80.0             0              1             1          2   \n",
       "3  60182  Female  49.0             0              0             1          2   \n",
       "4   1665  Female  79.0             1              0             1          3   \n",
       "5  56669    Male  81.0             0              0             1          2   \n",
       "\n",
       "   Residence_type  avg_glucose_level   bmi  smoking_status  stroke  Female  \\\n",
       "0               1             228.69  36.6               1       1       0   \n",
       "2               0             105.92  32.5               2       1       0   \n",
       "3               1             171.23  34.4               3       1       1   \n",
       "4               0             174.12  24.0               2       1       1   \n",
       "5               1             186.21  29.0               1       1       0   \n",
       "\n",
       "   Male  Other  \n",
       "0     1      0  \n",
       "2     1      0  \n",
       "3     0      0  \n",
       "4     0      0  \n",
       "5     1      0  "
      ]
     },
     "execution_count": 57,
     "metadata": {},
     "output_type": "execute_result"
    }
   ],
   "source": [
    "data = pd.concat([df, dummies], axis=1)\n",
    "data.head()"
   ]
  },
  {
   "cell_type": "code",
   "execution_count": 58,
   "metadata": {
    "execution": {
     "iopub.execute_input": "2021-06-04T10:53:55.877468Z",
     "iopub.status.busy": "2021-06-04T10:53:55.877141Z",
     "iopub.status.idle": "2021-06-04T10:53:55.889277Z",
     "shell.execute_reply": "2021-06-04T10:53:55.888422Z",
     "shell.execute_reply.started": "2021-06-04T10:53:55.877438Z"
    }
   },
   "outputs": [],
   "source": [
    "dataset = data.drop(['id', 'gender', 'Other'], axis=1)"
   ]
  },
  {
   "cell_type": "code",
   "execution_count": 59,
   "metadata": {
    "execution": {
     "iopub.execute_input": "2021-06-04T10:53:55.890921Z",
     "iopub.status.busy": "2021-06-04T10:53:55.890653Z",
     "iopub.status.idle": "2021-06-04T10:53:55.911388Z",
     "shell.execute_reply": "2021-06-04T10:53:55.910226Z",
     "shell.execute_reply.started": "2021-06-04T10:53:55.890895Z"
    }
   },
   "outputs": [
    {
     "data": {
      "text/html": [
       "<div>\n",
       "<style scoped>\n",
       "    .dataframe tbody tr th:only-of-type {\n",
       "        vertical-align: middle;\n",
       "    }\n",
       "\n",
       "    .dataframe tbody tr th {\n",
       "        vertical-align: top;\n",
       "    }\n",
       "\n",
       "    .dataframe thead th {\n",
       "        text-align: right;\n",
       "    }\n",
       "</style>\n",
       "<table border=\"1\" class=\"dataframe\">\n",
       "  <thead>\n",
       "    <tr style=\"text-align: right;\">\n",
       "      <th></th>\n",
       "      <th>age</th>\n",
       "      <th>hypertension</th>\n",
       "      <th>heart_disease</th>\n",
       "      <th>ever_married</th>\n",
       "      <th>work_type</th>\n",
       "      <th>Residence_type</th>\n",
       "      <th>avg_glucose_level</th>\n",
       "      <th>bmi</th>\n",
       "      <th>smoking_status</th>\n",
       "      <th>stroke</th>\n",
       "      <th>Female</th>\n",
       "      <th>Male</th>\n",
       "    </tr>\n",
       "  </thead>\n",
       "  <tbody>\n",
       "    <tr>\n",
       "      <th>0</th>\n",
       "      <td>67.0</td>\n",
       "      <td>0</td>\n",
       "      <td>1</td>\n",
       "      <td>1</td>\n",
       "      <td>2</td>\n",
       "      <td>1</td>\n",
       "      <td>228.69</td>\n",
       "      <td>36.6</td>\n",
       "      <td>1</td>\n",
       "      <td>1</td>\n",
       "      <td>0</td>\n",
       "      <td>1</td>\n",
       "    </tr>\n",
       "    <tr>\n",
       "      <th>2</th>\n",
       "      <td>80.0</td>\n",
       "      <td>0</td>\n",
       "      <td>1</td>\n",
       "      <td>1</td>\n",
       "      <td>2</td>\n",
       "      <td>0</td>\n",
       "      <td>105.92</td>\n",
       "      <td>32.5</td>\n",
       "      <td>2</td>\n",
       "      <td>1</td>\n",
       "      <td>0</td>\n",
       "      <td>1</td>\n",
       "    </tr>\n",
       "    <tr>\n",
       "      <th>3</th>\n",
       "      <td>49.0</td>\n",
       "      <td>0</td>\n",
       "      <td>0</td>\n",
       "      <td>1</td>\n",
       "      <td>2</td>\n",
       "      <td>1</td>\n",
       "      <td>171.23</td>\n",
       "      <td>34.4</td>\n",
       "      <td>3</td>\n",
       "      <td>1</td>\n",
       "      <td>1</td>\n",
       "      <td>0</td>\n",
       "    </tr>\n",
       "    <tr>\n",
       "      <th>4</th>\n",
       "      <td>79.0</td>\n",
       "      <td>1</td>\n",
       "      <td>0</td>\n",
       "      <td>1</td>\n",
       "      <td>3</td>\n",
       "      <td>0</td>\n",
       "      <td>174.12</td>\n",
       "      <td>24.0</td>\n",
       "      <td>2</td>\n",
       "      <td>1</td>\n",
       "      <td>1</td>\n",
       "      <td>0</td>\n",
       "    </tr>\n",
       "    <tr>\n",
       "      <th>5</th>\n",
       "      <td>81.0</td>\n",
       "      <td>0</td>\n",
       "      <td>0</td>\n",
       "      <td>1</td>\n",
       "      <td>2</td>\n",
       "      <td>1</td>\n",
       "      <td>186.21</td>\n",
       "      <td>29.0</td>\n",
       "      <td>1</td>\n",
       "      <td>1</td>\n",
       "      <td>0</td>\n",
       "      <td>1</td>\n",
       "    </tr>\n",
       "  </tbody>\n",
       "</table>\n",
       "</div>"
      ],
      "text/plain": [
       "    age  hypertension  heart_disease  ever_married  work_type  Residence_type  \\\n",
       "0  67.0             0              1             1          2               1   \n",
       "2  80.0             0              1             1          2               0   \n",
       "3  49.0             0              0             1          2               1   \n",
       "4  79.0             1              0             1          3               0   \n",
       "5  81.0             0              0             1          2               1   \n",
       "\n",
       "   avg_glucose_level   bmi  smoking_status  stroke  Female  Male  \n",
       "0             228.69  36.6               1       1       0     1  \n",
       "2             105.92  32.5               2       1       0     1  \n",
       "3             171.23  34.4               3       1       1     0  \n",
       "4             174.12  24.0               2       1       1     0  \n",
       "5             186.21  29.0               1       1       0     1  "
      ]
     },
     "execution_count": 59,
     "metadata": {},
     "output_type": "execute_result"
    }
   ],
   "source": [
    "dataset.head()"
   ]
  },
  {
   "cell_type": "code",
   "execution_count": 60,
   "metadata": {
    "execution": {
     "iopub.execute_input": "2021-06-04T10:53:55.912937Z",
     "iopub.status.busy": "2021-06-04T10:53:55.912573Z",
     "iopub.status.idle": "2021-06-04T10:53:55.924421Z",
     "shell.execute_reply": "2021-06-04T10:53:55.923748Z",
     "shell.execute_reply.started": "2021-06-04T10:53:55.912910Z"
    }
   },
   "outputs": [
    {
     "data": {
      "text/plain": [
       "(4909, 12)"
      ]
     },
     "execution_count": 60,
     "metadata": {},
     "output_type": "execute_result"
    }
   ],
   "source": [
    "dataset.shape"
   ]
  },
  {
   "cell_type": "markdown",
   "metadata": {},
   "source": [
    "### Handling Imbalanced Data"
   ]
  },
  {
   "cell_type": "code",
   "execution_count": 61,
   "metadata": {
    "execution": {
     "iopub.execute_input": "2021-06-04T10:53:55.925691Z",
     "iopub.status.busy": "2021-06-04T10:53:55.925332Z",
     "iopub.status.idle": "2021-06-04T10:53:55.938796Z",
     "shell.execute_reply": "2021-06-04T10:53:55.937734Z",
     "shell.execute_reply.started": "2021-06-04T10:53:55.925665Z"
    }
   },
   "outputs": [],
   "source": [
    "## Splitting data into independent and dependent variables\n",
    "\n",
    "X = dataset.drop(['stroke'], axis=1)\n",
    "Y = dataset.stroke"
   ]
  },
  {
   "cell_type": "code",
   "execution_count": 62,
   "metadata": {
    "execution": {
     "iopub.execute_input": "2021-06-04T10:53:55.940738Z",
     "iopub.status.busy": "2021-06-04T10:53:55.940291Z",
     "iopub.status.idle": "2021-06-04T10:53:55.963383Z",
     "shell.execute_reply": "2021-06-04T10:53:55.962475Z",
     "shell.execute_reply.started": "2021-06-04T10:53:55.940709Z"
    }
   },
   "outputs": [
    {
     "data": {
      "text/html": [
       "<div>\n",
       "<style scoped>\n",
       "    .dataframe tbody tr th:only-of-type {\n",
       "        vertical-align: middle;\n",
       "    }\n",
       "\n",
       "    .dataframe tbody tr th {\n",
       "        vertical-align: top;\n",
       "    }\n",
       "\n",
       "    .dataframe thead th {\n",
       "        text-align: right;\n",
       "    }\n",
       "</style>\n",
       "<table border=\"1\" class=\"dataframe\">\n",
       "  <thead>\n",
       "    <tr style=\"text-align: right;\">\n",
       "      <th></th>\n",
       "      <th>age</th>\n",
       "      <th>hypertension</th>\n",
       "      <th>heart_disease</th>\n",
       "      <th>ever_married</th>\n",
       "      <th>work_type</th>\n",
       "      <th>Residence_type</th>\n",
       "      <th>avg_glucose_level</th>\n",
       "      <th>bmi</th>\n",
       "      <th>smoking_status</th>\n",
       "      <th>Female</th>\n",
       "      <th>Male</th>\n",
       "    </tr>\n",
       "  </thead>\n",
       "  <tbody>\n",
       "    <tr>\n",
       "      <th>0</th>\n",
       "      <td>67.0</td>\n",
       "      <td>0</td>\n",
       "      <td>1</td>\n",
       "      <td>1</td>\n",
       "      <td>2</td>\n",
       "      <td>1</td>\n",
       "      <td>228.69</td>\n",
       "      <td>36.6</td>\n",
       "      <td>1</td>\n",
       "      <td>0</td>\n",
       "      <td>1</td>\n",
       "    </tr>\n",
       "    <tr>\n",
       "      <th>2</th>\n",
       "      <td>80.0</td>\n",
       "      <td>0</td>\n",
       "      <td>1</td>\n",
       "      <td>1</td>\n",
       "      <td>2</td>\n",
       "      <td>0</td>\n",
       "      <td>105.92</td>\n",
       "      <td>32.5</td>\n",
       "      <td>2</td>\n",
       "      <td>0</td>\n",
       "      <td>1</td>\n",
       "    </tr>\n",
       "    <tr>\n",
       "      <th>3</th>\n",
       "      <td>49.0</td>\n",
       "      <td>0</td>\n",
       "      <td>0</td>\n",
       "      <td>1</td>\n",
       "      <td>2</td>\n",
       "      <td>1</td>\n",
       "      <td>171.23</td>\n",
       "      <td>34.4</td>\n",
       "      <td>3</td>\n",
       "      <td>1</td>\n",
       "      <td>0</td>\n",
       "    </tr>\n",
       "    <tr>\n",
       "      <th>4</th>\n",
       "      <td>79.0</td>\n",
       "      <td>1</td>\n",
       "      <td>0</td>\n",
       "      <td>1</td>\n",
       "      <td>3</td>\n",
       "      <td>0</td>\n",
       "      <td>174.12</td>\n",
       "      <td>24.0</td>\n",
       "      <td>2</td>\n",
       "      <td>1</td>\n",
       "      <td>0</td>\n",
       "    </tr>\n",
       "    <tr>\n",
       "      <th>5</th>\n",
       "      <td>81.0</td>\n",
       "      <td>0</td>\n",
       "      <td>0</td>\n",
       "      <td>1</td>\n",
       "      <td>2</td>\n",
       "      <td>1</td>\n",
       "      <td>186.21</td>\n",
       "      <td>29.0</td>\n",
       "      <td>1</td>\n",
       "      <td>0</td>\n",
       "      <td>1</td>\n",
       "    </tr>\n",
       "  </tbody>\n",
       "</table>\n",
       "</div>"
      ],
      "text/plain": [
       "    age  hypertension  heart_disease  ever_married  work_type  Residence_type  \\\n",
       "0  67.0             0              1             1          2               1   \n",
       "2  80.0             0              1             1          2               0   \n",
       "3  49.0             0              0             1          2               1   \n",
       "4  79.0             1              0             1          3               0   \n",
       "5  81.0             0              0             1          2               1   \n",
       "\n",
       "   avg_glucose_level   bmi  smoking_status  Female  Male  \n",
       "0             228.69  36.6               1       0     1  \n",
       "2             105.92  32.5               2       0     1  \n",
       "3             171.23  34.4               3       1     0  \n",
       "4             174.12  24.0               2       1     0  \n",
       "5             186.21  29.0               1       0     1  "
      ]
     },
     "execution_count": 62,
     "metadata": {},
     "output_type": "execute_result"
    }
   ],
   "source": [
    "X.head()"
   ]
  },
  {
   "cell_type": "code",
   "execution_count": 63,
   "metadata": {
    "execution": {
     "iopub.execute_input": "2021-06-04T10:53:55.964967Z",
     "iopub.status.busy": "2021-06-04T10:53:55.964675Z",
     "iopub.status.idle": "2021-06-04T10:53:55.970095Z",
     "shell.execute_reply": "2021-06-04T10:53:55.969330Z",
     "shell.execute_reply.started": "2021-06-04T10:53:55.964941Z"
    }
   },
   "outputs": [
    {
     "data": {
      "text/plain": [
       "0    1\n",
       "2    1\n",
       "3    1\n",
       "4    1\n",
       "5    1\n",
       "Name: stroke, dtype: int64"
      ]
     },
     "execution_count": 63,
     "metadata": {},
     "output_type": "execute_result"
    }
   ],
   "source": [
    "Y.head()"
   ]
  },
  {
   "cell_type": "code",
   "execution_count": 64,
   "metadata": {
    "execution": {
     "iopub.execute_input": "2021-06-04T10:53:55.971263Z",
     "iopub.status.busy": "2021-06-04T10:53:55.970991Z",
     "iopub.status.idle": "2021-06-04T10:53:55.982118Z",
     "shell.execute_reply": "2021-06-04T10:53:55.981106Z",
     "shell.execute_reply.started": "2021-06-04T10:53:55.971237Z"
    }
   },
   "outputs": [
    {
     "name": "stdout",
     "output_type": "stream",
     "text": [
      "(4909, 11)\n",
      "(4909,)\n"
     ]
    }
   ],
   "source": [
    "print(X.shape)\n",
    "print(Y.shape)"
   ]
  },
  {
   "cell_type": "code",
   "execution_count": 65,
   "metadata": {
    "execution": {
     "iopub.execute_input": "2021-06-04T10:53:55.983550Z",
     "iopub.status.busy": "2021-06-04T10:53:55.983275Z",
     "iopub.status.idle": "2021-06-04T10:53:55.997744Z",
     "shell.execute_reply": "2021-06-04T10:53:55.996660Z",
     "shell.execute_reply.started": "2021-06-04T10:53:55.983525Z"
    }
   },
   "outputs": [
    {
     "data": {
      "text/plain": [
       "0    4700\n",
       "1     209\n",
       "Name: stroke, dtype: int64"
      ]
     },
     "execution_count": 65,
     "metadata": {},
     "output_type": "execute_result"
    }
   ],
   "source": [
    "Y.value_counts()   ### here we can clearly see that the data is highly imbalanced \n",
    "                   ### we have to make it balanced so that our model is not biased to any output"
   ]
  },
  {
   "cell_type": "code",
   "execution_count": 66,
   "metadata": {
    "execution": {
     "iopub.execute_input": "2021-06-04T10:53:55.999257Z",
     "iopub.status.busy": "2021-06-04T10:53:55.998945Z",
     "iopub.status.idle": "2021-06-04T10:53:56.008398Z",
     "shell.execute_reply": "2021-06-04T10:53:56.007588Z",
     "shell.execute_reply.started": "2021-06-04T10:53:55.999229Z"
    }
   },
   "outputs": [],
   "source": [
    "from imblearn.combine import SMOTETomek   ## this library will help us to \"over sample\" the data "
   ]
  },
  {
   "cell_type": "code",
   "execution_count": 67,
   "metadata": {
    "execution": {
     "iopub.execute_input": "2021-06-04T10:53:56.009717Z",
     "iopub.status.busy": "2021-06-04T10:53:56.009346Z",
     "iopub.status.idle": "2021-06-04T10:53:56.104085Z",
     "shell.execute_reply": "2021-06-04T10:53:56.103154Z",
     "shell.execute_reply.started": "2021-06-04T10:53:56.009690Z"
    }
   },
   "outputs": [],
   "source": [
    "stk = SMOTETomek(random_state=42)\n",
    "\n",
    "X_res,y_res = stk.fit_resample(X,Y)"
   ]
  },
  {
   "cell_type": "code",
   "execution_count": 68,
   "metadata": {
    "execution": {
     "iopub.execute_input": "2021-06-04T10:53:56.105339Z",
     "iopub.status.busy": "2021-06-04T10:53:56.105059Z",
     "iopub.status.idle": "2021-06-04T10:53:56.110797Z",
     "shell.execute_reply": "2021-06-04T10:53:56.109966Z",
     "shell.execute_reply.started": "2021-06-04T10:53:56.105314Z"
    }
   },
   "outputs": [
    {
     "name": "stdout",
     "output_type": "stream",
     "text": [
      "(9310, 11)\n",
      "(9310,)\n"
     ]
    }
   ],
   "source": [
    "print(X_res.shape)\n",
    "\n",
    "print(y_res.shape)"
   ]
  },
  {
   "cell_type": "code",
   "execution_count": 69,
   "metadata": {
    "execution": {
     "iopub.execute_input": "2021-06-04T10:53:56.112321Z",
     "iopub.status.busy": "2021-06-04T10:53:56.112009Z",
     "iopub.status.idle": "2021-06-04T10:53:56.125155Z",
     "shell.execute_reply": "2021-06-04T10:53:56.124417Z",
     "shell.execute_reply.started": "2021-06-04T10:53:56.112287Z"
    }
   },
   "outputs": [
    {
     "name": "stdout",
     "output_type": "stream",
     "text": [
      "Original dataset shape Counter({0: 4700, 1: 209})\n",
      "Resampled dataset shape Counter({1: 4655, 0: 4655})\n"
     ]
    }
   ],
   "source": [
    "from collections import Counter\n",
    "\n",
    "print('Original dataset shape {}'.format(Counter(Y)))\n",
    "\n",
    "print('Resampled dataset shape {}'.format(Counter(y_res)))"
   ]
  },
  {
   "cell_type": "markdown",
   "metadata": {},
   "source": [
    "# Model Creation"
   ]
  },
  {
   "cell_type": "code",
   "execution_count": 70,
   "metadata": {
    "execution": {
     "iopub.execute_input": "2021-06-04T10:53:56.126996Z",
     "iopub.status.busy": "2021-06-04T10:53:56.126664Z",
     "iopub.status.idle": "2021-06-04T10:53:56.132432Z",
     "shell.execute_reply": "2021-06-04T10:53:56.131455Z",
     "shell.execute_reply.started": "2021-06-04T10:53:56.126968Z"
    }
   },
   "outputs": [],
   "source": [
    "from sklearn.model_selection import train_test_split"
   ]
  },
  {
   "cell_type": "code",
   "execution_count": 71,
   "metadata": {
    "execution": {
     "iopub.execute_input": "2021-06-04T10:53:56.134140Z",
     "iopub.status.busy": "2021-06-04T10:53:56.133856Z",
     "iopub.status.idle": "2021-06-04T10:53:56.147554Z",
     "shell.execute_reply": "2021-06-04T10:53:56.146446Z",
     "shell.execute_reply.started": "2021-06-04T10:53:56.134113Z"
    }
   },
   "outputs": [],
   "source": [
    "X_train, X_test, y_train, y_test = train_test_split(X_res, y_res, test_size=0.3)"
   ]
  },
  {
   "cell_type": "code",
   "execution_count": 72,
   "metadata": {
    "execution": {
     "iopub.execute_input": "2021-06-04T10:53:56.149270Z",
     "iopub.status.busy": "2021-06-04T10:53:56.148884Z",
     "iopub.status.idle": "2021-06-04T10:53:56.166636Z",
     "shell.execute_reply": "2021-06-04T10:53:56.165261Z",
     "shell.execute_reply.started": "2021-06-04T10:53:56.149237Z"
    }
   },
   "outputs": [
    {
     "data": {
      "text/html": [
       "<div>\n",
       "<style scoped>\n",
       "    .dataframe tbody tr th:only-of-type {\n",
       "        vertical-align: middle;\n",
       "    }\n",
       "\n",
       "    .dataframe tbody tr th {\n",
       "        vertical-align: top;\n",
       "    }\n",
       "\n",
       "    .dataframe thead th {\n",
       "        text-align: right;\n",
       "    }\n",
       "</style>\n",
       "<table border=\"1\" class=\"dataframe\">\n",
       "  <thead>\n",
       "    <tr style=\"text-align: right;\">\n",
       "      <th></th>\n",
       "      <th>age</th>\n",
       "      <th>hypertension</th>\n",
       "      <th>heart_disease</th>\n",
       "      <th>ever_married</th>\n",
       "      <th>work_type</th>\n",
       "      <th>Residence_type</th>\n",
       "      <th>avg_glucose_level</th>\n",
       "      <th>bmi</th>\n",
       "      <th>smoking_status</th>\n",
       "      <th>Female</th>\n",
       "      <th>Male</th>\n",
       "    </tr>\n",
       "  </thead>\n",
       "  <tbody>\n",
       "    <tr>\n",
       "      <th>2274</th>\n",
       "      <td>14.000000</td>\n",
       "      <td>0</td>\n",
       "      <td>0</td>\n",
       "      <td>0</td>\n",
       "      <td>2</td>\n",
       "      <td>1</td>\n",
       "      <td>79.360000</td>\n",
       "      <td>48.800000</td>\n",
       "      <td>2</td>\n",
       "      <td>0</td>\n",
       "      <td>1</td>\n",
       "    </tr>\n",
       "    <tr>\n",
       "      <th>838</th>\n",
       "      <td>51.000000</td>\n",
       "      <td>0</td>\n",
       "      <td>0</td>\n",
       "      <td>1</td>\n",
       "      <td>2</td>\n",
       "      <td>0</td>\n",
       "      <td>90.780000</td>\n",
       "      <td>32.300000</td>\n",
       "      <td>2</td>\n",
       "      <td>1</td>\n",
       "      <td>0</td>\n",
       "    </tr>\n",
       "    <tr>\n",
       "      <th>8551</th>\n",
       "      <td>77.960090</td>\n",
       "      <td>0</td>\n",
       "      <td>0</td>\n",
       "      <td>1</td>\n",
       "      <td>2</td>\n",
       "      <td>1</td>\n",
       "      <td>218.497648</td>\n",
       "      <td>26.786697</td>\n",
       "      <td>0</td>\n",
       "      <td>0</td>\n",
       "      <td>1</td>\n",
       "    </tr>\n",
       "    <tr>\n",
       "      <th>5782</th>\n",
       "      <td>45.083199</td>\n",
       "      <td>0</td>\n",
       "      <td>0</td>\n",
       "      <td>0</td>\n",
       "      <td>0</td>\n",
       "      <td>0</td>\n",
       "      <td>83.815955</td>\n",
       "      <td>27.609626</td>\n",
       "      <td>1</td>\n",
       "      <td>0</td>\n",
       "      <td>1</td>\n",
       "    </tr>\n",
       "    <tr>\n",
       "      <th>3240</th>\n",
       "      <td>78.000000</td>\n",
       "      <td>0</td>\n",
       "      <td>0</td>\n",
       "      <td>1</td>\n",
       "      <td>2</td>\n",
       "      <td>0</td>\n",
       "      <td>99.840000</td>\n",
       "      <td>36.600000</td>\n",
       "      <td>2</td>\n",
       "      <td>1</td>\n",
       "      <td>0</td>\n",
       "    </tr>\n",
       "  </tbody>\n",
       "</table>\n",
       "</div>"
      ],
      "text/plain": [
       "            age  hypertension  heart_disease  ever_married  work_type  \\\n",
       "2274  14.000000             0              0             0          2   \n",
       "838   51.000000             0              0             1          2   \n",
       "8551  77.960090             0              0             1          2   \n",
       "5782  45.083199             0              0             0          0   \n",
       "3240  78.000000             0              0             1          2   \n",
       "\n",
       "      Residence_type  avg_glucose_level        bmi  smoking_status  Female  \\\n",
       "2274               1          79.360000  48.800000               2       0   \n",
       "838                0          90.780000  32.300000               2       1   \n",
       "8551               1         218.497648  26.786697               0       0   \n",
       "5782               0          83.815955  27.609626               1       0   \n",
       "3240               0          99.840000  36.600000               2       1   \n",
       "\n",
       "      Male  \n",
       "2274     1  \n",
       "838      0  \n",
       "8551     1  \n",
       "5782     1  \n",
       "3240     0  "
      ]
     },
     "execution_count": 72,
     "metadata": {},
     "output_type": "execute_result"
    }
   ],
   "source": [
    "X_train.head()"
   ]
  },
  {
   "cell_type": "code",
   "execution_count": 73,
   "metadata": {
    "execution": {
     "iopub.execute_input": "2021-06-04T10:53:56.167912Z",
     "iopub.status.busy": "2021-06-04T10:53:56.167645Z",
     "iopub.status.idle": "2021-06-04T10:53:56.180389Z",
     "shell.execute_reply": "2021-06-04T10:53:56.179225Z",
     "shell.execute_reply.started": "2021-06-04T10:53:56.167886Z"
    }
   },
   "outputs": [
    {
     "data": {
      "text/plain": [
       "1    3271\n",
       "0    3246\n",
       "Name: stroke, dtype: int64"
      ]
     },
     "execution_count": 73,
     "metadata": {},
     "output_type": "execute_result"
    }
   ],
   "source": [
    "y_train.value_counts()  ### now the data is balanced and this will lead us to better accuracy"
   ]
  },
  {
   "cell_type": "code",
   "execution_count": 74,
   "metadata": {
    "execution": {
     "iopub.execute_input": "2021-06-04T10:53:56.182258Z",
     "iopub.status.busy": "2021-06-04T10:53:56.181911Z",
     "iopub.status.idle": "2021-06-04T10:53:57.014673Z",
     "shell.execute_reply": "2021-06-04T10:53:57.013594Z",
     "shell.execute_reply.started": "2021-06-04T10:53:56.182216Z"
    }
   },
   "outputs": [
    {
     "data": {
      "image/png": "[encoded data removed]",
      "text/plain": [
       "<Figure size 1080x720 with 2 Axes>"
      ]
     },
     "metadata": {
      "needs_background": "light"
     },
     "output_type": "display_data"
    }
   ],
   "source": [
    "### This step gives us an opportunity to drop highly correlated independent features so that we can save OUR model from \n",
    "### CURSE OF DIMENSIONALITY\n",
    "\n",
    "\n",
    "#get correlations of each features in dataset\n",
    "\n",
    "corr = X_train.corr()\n",
    "plt.figure(figsize=(15,10))\n",
    "\n",
    "#plot heat map\n",
    "\n",
    "sns.heatmap(corr, annot=True)\n",
    "plt.show() "
   ]
  },
  {
   "cell_type": "code",
   "execution_count": 75,
   "metadata": {
    "execution": {
     "iopub.execute_input": "2021-06-04T10:53:57.016505Z",
     "iopub.status.busy": "2021-06-04T10:53:57.016206Z",
     "iopub.status.idle": "2021-06-04T10:53:57.020665Z",
     "shell.execute_reply": "2021-06-04T10:53:57.019517Z",
     "shell.execute_reply.started": "2021-06-04T10:53:57.016474Z"
    }
   },
   "outputs": [],
   "source": [
    "### There are no such independent features who are highly correlated to each other"
   ]
  },
  {
   "cell_type": "code",
   "execution_count": 76,
   "metadata": {
    "execution": {
     "iopub.execute_input": "2021-06-04T10:53:57.022370Z",
     "iopub.status.busy": "2021-06-04T10:53:57.021999Z",
     "iopub.status.idle": "2021-06-04T10:53:57.032207Z",
     "shell.execute_reply": "2021-06-04T10:53:57.031359Z",
     "shell.execute_reply.started": "2021-06-04T10:53:57.022340Z"
    }
   },
   "outputs": [],
   "source": [
    "### Cross Validation \n",
    "\n",
    "from sklearn.model_selection import RandomizedSearchCV"
   ]
  },
  {
   "cell_type": "markdown",
   "metadata": {},
   "source": [
    "### Random Forest Classifier"
   ]
  },
  {
   "cell_type": "code",
   "execution_count": 77,
   "metadata": {
    "execution": {
     "iopub.execute_input": "2021-06-04T10:53:57.033475Z",
     "iopub.status.busy": "2021-06-04T10:53:57.033085Z",
     "iopub.status.idle": "2021-06-04T10:53:57.043552Z",
     "shell.execute_reply": "2021-06-04T10:53:57.042651Z",
     "shell.execute_reply.started": "2021-06-04T10:53:57.033448Z"
    }
   },
   "outputs": [],
   "source": [
    "from sklearn.ensemble import RandomForestClassifier"
   ]
  },
  {
   "cell_type": "code",
   "execution_count": 78,
   "metadata": {
    "execution": {
     "iopub.execute_input": "2021-06-04T10:53:57.045059Z",
     "iopub.status.busy": "2021-06-04T10:53:57.044681Z",
     "iopub.status.idle": "2021-06-04T10:53:57.054081Z",
     "shell.execute_reply": "2021-06-04T10:53:57.053217Z",
     "shell.execute_reply.started": "2021-06-04T10:53:57.045029Z"
    }
   },
   "outputs": [],
   "source": [
    "rfc_model = RandomForestClassifier()"
   ]
  },
  {
   "cell_type": "code",
   "execution_count": 79,
   "metadata": {
    "execution": {
     "iopub.execute_input": "2021-06-04T10:53:57.056095Z",
     "iopub.status.busy": "2021-06-04T10:53:57.055702Z",
     "iopub.status.idle": "2021-06-04T10:53:57.067744Z",
     "shell.execute_reply": "2021-06-04T10:53:57.066278Z",
     "shell.execute_reply.started": "2021-06-04T10:53:57.056056Z"
    }
   },
   "outputs": [],
   "source": [
    "n_estimators = [int(x) for x in np.linspace(start = 100, stop = 1200, num = 12)]\n",
    "\n",
    "max_features = ['auto', 'sqrt']\n",
    "\n",
    "max_depth = [int(x) for x in np.linspace(5, 30, num = 6)]\n",
    "\n",
    "min_samples_split = [2, 5, 10, 15, 100]\n",
    "\n",
    "min_samples_leaf = [1, 2, 5, 10]"
   ]
  },
  {
   "cell_type": "code",
   "execution_count": 80,
   "metadata": {
    "execution": {
     "iopub.execute_input": "2021-06-04T10:53:57.070038Z",
     "iopub.status.busy": "2021-06-04T10:53:57.069530Z",
     "iopub.status.idle": "2021-06-04T10:53:57.083582Z",
     "shell.execute_reply": "2021-06-04T10:53:57.082803Z",
     "shell.execute_reply.started": "2021-06-04T10:53:57.069995Z"
    }
   },
   "outputs": [],
   "source": [
    "rfc_random_grid={\n",
    "    'n_estimators' : n_estimators,\n",
    "    'max_features' : max_features,\n",
    "    'max_depth' : max_depth,\n",
    "    'min_samples_split' : min_samples_split,\n",
    "    'min_samples_leaf' : min_samples_leaf\n",
    "}"
   ]
  },
  {
   "cell_type": "code",
   "execution_count": 81,
   "metadata": {
    "execution": {
     "iopub.execute_input": "2021-06-04T10:53:57.084995Z",
     "iopub.status.busy": "2021-06-04T10:53:57.084610Z",
     "iopub.status.idle": "2021-06-04T10:53:57.094012Z",
     "shell.execute_reply": "2021-06-04T10:53:57.093320Z",
     "shell.execute_reply.started": "2021-06-04T10:53:57.084957Z"
    }
   },
   "outputs": [],
   "source": [
    "rfc_random = RandomizedSearchCV(estimator = rfc_model, param_distributions = rfc_random_grid, n_iter = 10, cv = 5, return_train_score=False)"
   ]
  },
  {
   "cell_type": "code",
   "execution_count": 82,
   "metadata": {
    "execution": {
     "iopub.execute_input": "2021-06-04T10:53:57.096462Z",
     "iopub.status.busy": "2021-06-04T10:53:57.095983Z"
    }
   },
   "outputs": [
    {
     "data": {
      "text/plain": [
       "RandomizedSearchCV(cv=5, estimator=RandomForestClassifier(),\n",
       "                   param_distributions={'max_depth': [5, 10, 15, 20, 25, 30],\n",
       "                                        'max_features': ['auto', 'sqrt'],\n",
       "                                        'min_samples_leaf': [1, 2, 5, 10],\n",
       "                                        'min_samples_split': [2, 5, 10, 15,\n",
       "                                                              100],\n",
       "                                        'n_estimators': [100, 200, 300, 400,\n",
       "                                                         500, 600, 700, 800,\n",
       "                                                         900, 1000, 1100,\n",
       "                                                         1200]})"
      ]
     },
     "execution_count": 82,
     "metadata": {},
     "output_type": "execute_result"
    }
   ],
   "source": [
    "rfc_random.fit(X_train, y_train)"
   ]
  },
  {
   "cell_type": "code",
   "execution_count": 83,
   "metadata": {},
   "outputs": [],
   "source": [
    "rfc_prediction = rfc_random.predict(X_test)"
   ]
  },
  {
   "cell_type": "code",
   "execution_count": 84,
   "metadata": {},
   "outputs": [],
   "source": [
    " from sklearn.metrics import accuracy_score, confusion_matrix, classification_report"
   ]
  },
  {
   "cell_type": "code",
   "execution_count": 85,
   "metadata": {},
   "outputs": [
    {
     "name": "stdout",
     "output_type": "stream",
     "text": [
      "Accuracy Score\n",
      "0.9316147511636234\n",
      "**************************************************\n",
      "Classification Report\n",
      "\n",
      "              precision    recall  f1-score   support\n",
      "\n",
      "           0       0.95      0.92      0.93      1409\n",
      "           1       0.92      0.95      0.93      1384\n",
      "\n",
      "    accuracy                           0.93      2793\n",
      "   macro avg       0.93      0.93      0.93      2793\n",
      "weighted avg       0.93      0.93      0.93      2793\n",
      "\n",
      "**************************************************\n",
      "Confusion Matrix\n",
      "\n",
      "[[1290  119]\n",
      " [  72 1312]]\n"
     ]
    }
   ],
   "source": [
    "print(\"Accuracy Score\")\n",
    "print(accuracy_score(y_test, rfc_prediction))\n",
    "\n",
    "print('*'*50)\n",
    "\n",
    "print(\"Classification Report\\n\")\n",
    "print(classification_report(y_test, rfc_prediction))\n",
    "\n",
    "print('*'*50)\n",
    "\n",
    "print(\"Confusion Matrix\\n\")\n",
    "print(confusion_matrix(y_test, rfc_prediction))"
   ]
  }
 ],
 "metadata": {
  "kernelspec": {
   "display_name": "Python 3",
   "language": "python",
   "name": "python3"
  },
  "language_info": {
   "codemirror_mode": {
    "name": "ipython",
    "version": 3
   },
   "file_extension": ".py",
   "mimetype": "text/x-python",
   "name": "python",
   "nbconvert_exporter": "python",
   "pygments_lexer": "ipython3",
   "version": "3.8.5"
  }
 },
 "nbformat": 4,
 "nbformat_minor": 4
}
